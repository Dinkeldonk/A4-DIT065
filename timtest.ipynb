{
 "cells": [
  {
   "cell_type": "code",
   "execution_count": 10,
   "metadata": {},
   "outputs": [
    {
     "name": "stderr",
     "output_type": "stream",
     "text": [
      "usage: ipykernel_launcher.py [options] [input files]\n",
      "ipykernel_launcher.py: error: unrecognized arguments: --ip=127.0.0.1 --stdin=9008 --control=9006 --hb=9005 --Session.signature_scheme=\"hmac-sha256\" --Session.key=b\"318f9811-0e20-47b3-affc-77f7695a2bd7\" --shell=9007 --transport=\"tcp\" --iopub=9009\n"
     ]
    },
    {
     "ename": "SystemExit",
     "evalue": "2",
     "output_type": "error",
     "traceback": [
      "An exception has occurred, use %tb to see the full traceback.\n",
      "\u001b[1;31mSystemExit\u001b[0m\u001b[1;31m:\u001b[0m 2\n"
     ]
    },
    {
     "name": "stderr",
     "output_type": "stream",
     "text": [
      "c:\\Users\\Timze\\anaconda3\\lib\\site-packages\\IPython\\core\\interactiveshell.py:3452: UserWarning: To exit: use 'exit', 'quit', or Ctrl-D.\n",
      "  warn(\"To exit: use 'exit', 'quit', or Ctrl-D.\", stacklevel=1)\n"
     ]
    }
   ],
   "source": [
    "from mrjob.job import MRJob\n",
    "\n",
    "class MRKmeans(MRJob):\n",
    "\n",
    "    def configure_args(self):\n",
    "        super(MRKmeans, self).configure_args()\n",
    "        self.add_file_arg('-centroids', help='centroid file')\n",
    "\n",
    "    def get_centroids(self):\n",
    "\n",
    "        centroids = []\n",
    "        with open(self.options.centroids, 'r') as f:\n",
    "            for line in f:\n",
    "                centroid = [float(x) for x in line.strip().split()]\n",
    "                centroids.append(centroid)\n",
    "        print(centroids)\n",
    "        return centroids\n",
    "\n",
    "\n",
    "    # def mapper_init(self):\n",
    "    #     with open('/home/2023/timze/centroids.txt', 'r') as cents:\n",
    "    #         #contents = cents.read()\n",
    "    #         #print(contents.decode('utf-8'))\n",
    "    #         self.centroids = [list(map(float, line.strip().split())) for line in cents.read().splitlines()]\n",
    "            #print(self.centroids)\n",
    "       #with open('kmeans_data.txt', 'r') as data:\n",
    "     #      # self.data = [list(map(float, line.strip().split())) for line in data.readlines()]\n",
    "\n",
    "    def mapper(self, _, line):\n",
    "        point = list(map(float, line.strip().split()))\n",
    "\n",
    "        min_distance = float('inf')\n",
    "        closest_centroid = None\n",
    "\n",
    "        for i, centroid in enumerate(self.centroids):\n",
    "            distance = sum([(point[j] - centroid[j])**2 for j in range(len(point))])\n",
    "            if distance < min_distance:\n",
    "                min_distance = distance\n",
    "                closest_centroid = i\n",
    "\n",
    "        yield closest_centroid, point\n",
    "\n",
    "\n",
    "    def reducer(self, centroid_id, points):\n",
    "        num_points = 0\n",
    "        new_centroid = [0.0] * len(self.centroids[0])\n",
    "        for point in points:\n",
    "            num_points += 1\n",
    "            for i in range(len(point)):\n",
    "                new_centroid[i] += point[i]\n",
    "        new_centroid = [x / num_points for x in new_centroid]\n",
    "\n",
    "        yield centroid_id, new_centroid\n",
    "\n",
    "if __name__ == '__main__':\n",
    "    MRKmeans.run()"
   ]
  },
  {
   "cell_type": "code",
   "execution_count": null,
   "metadata": {},
   "outputs": [],
   "source": []
  }
 ],
 "metadata": {
  "kernelspec": {
   "display_name": "base",
   "language": "python",
   "name": "python3"
  },
  "language_info": {
   "codemirror_mode": {
    "name": "ipython",
    "version": 3
   },
   "file_extension": ".py",
   "mimetype": "text/x-python",
   "name": "python",
   "nbconvert_exporter": "python",
   "pygments_lexer": "ipython3",
   "version": "3.9.7"
  },
  "orig_nbformat": 4
 },
 "nbformat": 4,
 "nbformat_minor": 2
}
